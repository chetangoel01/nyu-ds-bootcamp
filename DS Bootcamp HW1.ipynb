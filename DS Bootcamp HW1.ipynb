{
  "nbformat": 4,
  "nbformat_minor": 0,
  "metadata": {
    "colab": {
      "provenance": []
    },
    "kernelspec": {
      "name": "python3",
      "display_name": "Python 3"
    },
    "language_info": {
      "name": "python"
    }
  },
  "cells": [
    {
      "cell_type": "markdown",
      "source": [
        "Take home exercises\n",
        "1. Write a function count_vowels(word) that takes a word as an argument and returns the number of vowels in the word\n",
        "2. Iterate through the following list of animals and print each one in all caps.\n",
        "animals=['tiger', 'elephant', 'monkey', 'zebra', 'panther']\n",
        "\n",
        "3. Write a program that iterates from 1 to 20, printing each number and whether it's odd or even.\n",
        "4. Write a function sum_of_integers(a, b) that takes two integers as input from the user and returns their sum."
      ],
      "metadata": {
        "id": "OWAi6L9B0bZm"
      }
    },
    {
      "cell_type": "code",
      "source": [
        "def count_vowels(word):\n",
        "  count = 0\n",
        "  for i in word:\n",
        "    if i in 'aeiou':\n",
        "      count += 1\n",
        "  return count"
      ],
      "metadata": {
        "id": "KPjGxd-M0lxY"
      },
      "execution_count": null,
      "outputs": []
    },
    {
      "cell_type": "code",
      "source": [
        "def print_animal(animals):\n",
        "  for animal in animals:\n",
        "    print(animal.upper())"
      ],
      "metadata": {
        "id": "xjabSjnR0uz2"
      },
      "execution_count": null,
      "outputs": []
    },
    {
      "cell_type": "code",
      "source": [
        "def print_odd_even(a,b):\n",
        "  for i in range(a,b+1):\n",
        "    if i % 2 == 0:\n",
        "      print(f'{i} is even')\n",
        "    else:\n",
        "      print(f'{i} is odd')"
      ],
      "metadata": {
        "id": "iTwqE-aB01Eb"
      },
      "execution_count": null,
      "outputs": []
    },
    {
      "cell_type": "code",
      "source": [
        "def sum_of_integers(a, b):\n",
        "  a = int(input('Enter first integer: '))\n",
        "  b = int(input('Enter second integer: '))\n",
        "  return a + b"
      ],
      "metadata": {
        "id": "ldTQLChd03jF"
      },
      "execution_count": null,
      "outputs": []
    }
  ]
}